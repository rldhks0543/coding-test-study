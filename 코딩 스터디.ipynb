{
 "cells": [
  {
   "cell_type": "markdown",
   "id": "571b7aeb",
   "metadata": {},
   "source": [
    "# 1주차"
   ]
  },
  {
   "cell_type": "code",
   "execution_count": 12,
   "id": "5c11f7a6",
   "metadata": {
    "scrolled": true
   },
   "outputs": [
    {
     "name": "stdout",
     "output_type": "stream",
     "text": [
      "6\n",
      "(()())((()))\n",
      "before :  ['(', '(']\n",
      "after :  ['(']\n",
      "before :  ['(', '(']\n",
      "after :  ['(']\n",
      "before :  ['(']\n",
      "after :  []\n",
      "before :  ['(', '(', '(']\n",
      "after :  ['(', '(']\n",
      "before :  ['(', '(']\n",
      "after :  ['(']\n",
      "before :  ['(']\n",
      "after :  []\n",
      "YES\n"
     ]
    },
    {
     "ename": "KeyboardInterrupt",
     "evalue": "Interrupted by user",
     "output_type": "error",
     "traceback": [
      "\u001b[1;31m---------------------------------------------------------------------------\u001b[0m",
      "\u001b[1;31mKeyboardInterrupt\u001b[0m                         Traceback (most recent call last)",
      "Cell \u001b[1;32mIn[12], line 5\u001b[0m\n\u001b[0;32m      3\u001b[0m \u001b[38;5;28;01mfor\u001b[39;00m i \u001b[38;5;129;01min\u001b[39;00m \u001b[38;5;28mrange\u001b[39m(T):\n\u001b[0;32m      4\u001b[0m     stack \u001b[38;5;241m=\u001b[39m []\n\u001b[1;32m----> 5\u001b[0m     a \u001b[38;5;241m=\u001b[39m \u001b[38;5;28;43minput\u001b[39;49m\u001b[43m(\u001b[49m\u001b[43m)\u001b[49m\n\u001b[0;32m      6\u001b[0m     \u001b[38;5;28;01mfor\u001b[39;00m j \u001b[38;5;129;01min\u001b[39;00m a:\n\u001b[0;32m      7\u001b[0m         \u001b[38;5;28;01mif\u001b[39;00m j \u001b[38;5;241m==\u001b[39m \u001b[38;5;124m\"\u001b[39m\u001b[38;5;124m(\u001b[39m\u001b[38;5;124m\"\u001b[39m:\n",
      "File \u001b[1;32m~\\miniconda3\\envs\\pytorch_env\\lib\\site-packages\\ipykernel\\kernelbase.py:1191\u001b[0m, in \u001b[0;36mKernel.raw_input\u001b[1;34m(self, prompt)\u001b[0m\n\u001b[0;32m   1189\u001b[0m     msg \u001b[38;5;241m=\u001b[39m \u001b[38;5;124m\"\u001b[39m\u001b[38;5;124mraw_input was called, but this frontend does not support input requests.\u001b[39m\u001b[38;5;124m\"\u001b[39m\n\u001b[0;32m   1190\u001b[0m     \u001b[38;5;28;01mraise\u001b[39;00m StdinNotImplementedError(msg)\n\u001b[1;32m-> 1191\u001b[0m \u001b[38;5;28;01mreturn\u001b[39;00m \u001b[38;5;28;43mself\u001b[39;49m\u001b[38;5;241;43m.\u001b[39;49m\u001b[43m_input_request\u001b[49m\u001b[43m(\u001b[49m\n\u001b[0;32m   1192\u001b[0m \u001b[43m    \u001b[49m\u001b[38;5;28;43mstr\u001b[39;49m\u001b[43m(\u001b[49m\u001b[43mprompt\u001b[49m\u001b[43m)\u001b[49m\u001b[43m,\u001b[49m\n\u001b[0;32m   1193\u001b[0m \u001b[43m    \u001b[49m\u001b[38;5;28;43mself\u001b[39;49m\u001b[38;5;241;43m.\u001b[39;49m\u001b[43m_parent_ident\u001b[49m\u001b[43m[\u001b[49m\u001b[38;5;124;43m\"\u001b[39;49m\u001b[38;5;124;43mshell\u001b[39;49m\u001b[38;5;124;43m\"\u001b[39;49m\u001b[43m]\u001b[49m\u001b[43m,\u001b[49m\n\u001b[0;32m   1194\u001b[0m \u001b[43m    \u001b[49m\u001b[38;5;28;43mself\u001b[39;49m\u001b[38;5;241;43m.\u001b[39;49m\u001b[43mget_parent\u001b[49m\u001b[43m(\u001b[49m\u001b[38;5;124;43m\"\u001b[39;49m\u001b[38;5;124;43mshell\u001b[39;49m\u001b[38;5;124;43m\"\u001b[39;49m\u001b[43m)\u001b[49m\u001b[43m,\u001b[49m\n\u001b[0;32m   1195\u001b[0m \u001b[43m    \u001b[49m\u001b[43mpassword\u001b[49m\u001b[38;5;241;43m=\u001b[39;49m\u001b[38;5;28;43;01mFalse\u001b[39;49;00m\u001b[43m,\u001b[49m\n\u001b[0;32m   1196\u001b[0m \u001b[43m\u001b[49m\u001b[43m)\u001b[49m\n",
      "File \u001b[1;32m~\\miniconda3\\envs\\pytorch_env\\lib\\site-packages\\ipykernel\\kernelbase.py:1234\u001b[0m, in \u001b[0;36mKernel._input_request\u001b[1;34m(self, prompt, ident, parent, password)\u001b[0m\n\u001b[0;32m   1231\u001b[0m \u001b[38;5;28;01mexcept\u001b[39;00m \u001b[38;5;167;01mKeyboardInterrupt\u001b[39;00m:\n\u001b[0;32m   1232\u001b[0m     \u001b[38;5;66;03m# re-raise KeyboardInterrupt, to truncate traceback\u001b[39;00m\n\u001b[0;32m   1233\u001b[0m     msg \u001b[38;5;241m=\u001b[39m \u001b[38;5;124m\"\u001b[39m\u001b[38;5;124mInterrupted by user\u001b[39m\u001b[38;5;124m\"\u001b[39m\n\u001b[1;32m-> 1234\u001b[0m     \u001b[38;5;28;01mraise\u001b[39;00m \u001b[38;5;167;01mKeyboardInterrupt\u001b[39;00m(msg) \u001b[38;5;28;01mfrom\u001b[39;00m \u001b[38;5;28;01mNone\u001b[39;00m\n\u001b[0;32m   1235\u001b[0m \u001b[38;5;28;01mexcept\u001b[39;00m \u001b[38;5;167;01mException\u001b[39;00m:\n\u001b[0;32m   1236\u001b[0m     \u001b[38;5;28mself\u001b[39m\u001b[38;5;241m.\u001b[39mlog\u001b[38;5;241m.\u001b[39mwarning(\u001b[38;5;124m\"\u001b[39m\u001b[38;5;124mInvalid Message:\u001b[39m\u001b[38;5;124m\"\u001b[39m, exc_info\u001b[38;5;241m=\u001b[39m\u001b[38;5;28;01mTrue\u001b[39;00m)\n",
      "\u001b[1;31mKeyboardInterrupt\u001b[0m: Interrupted by user"
     ]
    }
   ],
   "source": [
    "# stack 9012\n",
    "\n",
    "T = int(input())\n",
    "\n",
    "for i in range(T):\n",
    "    stack = []\n",
    "    a = input()\n",
    "    for j in a:\n",
    "        if j == \"(\":\n",
    "            stack.append(j)\n",
    "        elif j == \")\":\n",
    "            if len(stack) != 0:\n",
    "                stack.pop()\n",
    "            else:\n",
    "                print('NO')\n",
    "                break\n",
    "    else:\n",
    "        if len(stack) == 0:\n",
    "            print('YES')\n",
    "        else:\n",
    "            print('NO')"
   ]
  },
  {
   "cell_type": "code",
   "execution_count": 21,
   "id": "75b7f1e3",
   "metadata": {},
   "outputs": [
    {
     "data": {
      "text/plain": [
       "'23232'"
      ]
     },
     "execution_count": 21,
     "metadata": {},
     "output_type": "execute_result"
    }
   ],
   "source": [
    "a = 'push 23232'\n",
    "a.split()[-1]"
   ]
  },
  {
   "cell_type": "code",
   "execution_count": 1,
   "id": "bc2e6a0d",
   "metadata": {},
   "outputs": [
    {
     "ename": "SyntaxError",
     "evalue": "invalid syntax (1735018373.py, line 4)",
     "output_type": "error",
     "traceback": [
      "\u001b[1;36m  Cell \u001b[1;32mIn[1], line 4\u001b[1;36m\u001b[0m\n\u001b[1;33m    \"good\": (lambda x: return 5)\u001b[0m\n\u001b[1;37m                       ^\u001b[0m\n\u001b[1;31mSyntaxError\u001b[0m\u001b[1;31m:\u001b[0m invalid syntax\n"
     ]
    }
   ],
   "source": [
    "import sys\n",
    "\n",
    "dic = {\n",
    "    \"good\": (lambda x: return 5)\n",
    "}"
   ]
  },
  {
   "cell_type": "code",
   "execution_count": 18,
   "id": "8f3b5096",
   "metadata": {
    "scrolled": true
   },
   "outputs": [
    {
     "name": "stdout",
     "output_type": "stream",
     "text": [
      "15\n",
      "push 1\n",
      "push 2\n",
      "front\n",
      "1\n",
      "back\n",
      "2\n",
      "size\n",
      "2\n",
      "empty\n",
      "0\n",
      "pop\n",
      "1\n",
      "pop\n",
      "2\n",
      "pop\n",
      "-1\n",
      "size\n",
      "0\n",
      "empty\n",
      "1\n",
      "pop\n",
      "-1\n",
      "push 3\n",
      "empty\n",
      "0\n",
      "fromt\n"
     ]
    }
   ],
   "source": [
    "# QUEUE 10845\n",
    "\n",
    "import sys\n",
    "\n",
    "N = int(sys.stdin.readline())\n",
    "queue = []\n",
    "for _ in range(N):\n",
    "    a = sys.stdin.readline()\n",
    "    if 'push' in a:\n",
    "        queue.append(a.split()[-1])\n",
    "    elif 'pop' in a:\n",
    "        if len(queue) == 0:\n",
    "            print('-1')\n",
    "        else:\n",
    "            print(queue.pop(0))\n",
    "    elif 'size' in a:\n",
    "        print(len(queue))\n",
    "    elif 'empty' in a:\n",
    "        if len(queue) == 0:\n",
    "            print('1')\n",
    "        else:\n",
    "            print('0')\n",
    "    elif 'front' in a:\n",
    "        if len(queue) == 0:\n",
    "            print('-1')\n",
    "        else:\n",
    "            print(queue[0])\n",
    "    elif 'back' in a:\n",
    "        if len(queue) == 0:\n",
    "            print('-1')\n",
    "        else:\n",
    "            print(queue[-1])"
   ]
  },
  {
   "cell_type": "code",
   "execution_count": 5,
   "id": "6691c5ef",
   "metadata": {},
   "outputs": [
    {
     "name": "stdout",
     "output_type": "stream",
     "text": [
      "11\n",
      "*** []\n",
      "6\n",
      "1\n",
      "*** []\n",
      "1 3\n",
      "*** ['3']\n",
      "1 8\n",
      "*** ['8', '3']\n",
      "7\n",
      "8\n",
      "*** ['8', '3']\n",
      "8\n",
      "3\n",
      "*** ['8', '3']\n",
      "3\n",
      "8\n",
      "*** ['3']\n",
      "2 5\n",
      "*** ['3', '5']\n",
      "1 2\n",
      "*** ['2', '3', '5']\n",
      "5\n",
      "3\n",
      "*** ['2', '3', '5']\n",
      "4\n",
      "2\n",
      "*** ['3', '5']\n",
      "4\n",
      "3\n"
     ]
    }
   ],
   "source": [
    "# DEQUE 28279\n",
    "N = int(input())\n",
    "deque = []\n",
    "for _ in range(N):\n",
    "    a = input().split()\n",
    "    if a[0] == '1': # push_front\n",
    "        deque = [a[1]] + deque\n",
    "    elif a[0] =='2': # push_back\n",
    "        deque.append(a[1])\n",
    "    elif a[0] =='3': # pop_front\n",
    "        if len(deque) == 0:\n",
    "            print('-1')\n",
    "        else:\n",
    "            print(deque[0])\n",
    "            deque = deque[1:]\n",
    "    elif a[0] =='4': # pop_back\n",
    "        if len(deque) == 0:\n",
    "            print('-1')\n",
    "        else:\n",
    "            print(deque.pop(0))\n",
    "    elif a[0] =='5': # size\n",
    "        print(len(deque))\n",
    "    elif a[0] =='6': # empty\n",
    "        if len(deque) == 0:\n",
    "            print('1')\n",
    "        else:\n",
    "            print('0')\n",
    "    elif a[0] =='7': # front\n",
    "        if len(deque) == 0:\n",
    "            print('-1')\n",
    "        else:\n",
    "            print(deque[0])\n",
    "    elif a[0] =='8': # back\n",
    "        if len(deque) == 0:\n",
    "            print('-1')\n",
    "        else:\n",
    "            print(deque[-1])"
   ]
  },
  {
   "cell_type": "markdown",
   "id": "065371d6",
   "metadata": {},
   "source": [
    "# 2주차"
   ]
  },
  {
   "cell_type": "code",
   "execution_count": 5,
   "id": "de8233bc",
   "metadata": {},
   "outputs": [
    {
     "name": "stdout",
     "output_type": "stream",
     "text": [
      "5\n",
      "abcde\n",
      "4739715\n"
     ]
    }
   ],
   "source": [
    "# HASH 15829\n",
    "N = int(input())\n",
    "alp = input()\n",
    "\n",
    "hash_val = 0\n",
    "\n",
    "for i in range(N):\n",
    "    hash_val += (ord(alp[i])-96)*(31**i)\n",
    "    \n",
    "print(hash_val%1234567891)"
   ]
  },
  {
   "cell_type": "code",
   "execution_count": 18,
   "id": "00c73ab9",
   "metadata": {},
   "outputs": [
    {
     "name": "stdout",
     "output_type": "stream",
     "text": [
      "10\n",
      "6 3 2 10 10 10 -10 -10 7 3\n",
      "8\n",
      "10 9 -5 2 3 4 5 -10\n",
      "3 0 0 1 2 0 0 2\n"
     ]
    }
   ],
   "source": [
    "# HASH 10816\n",
    "import sys\n",
    "#sys.stdin.readline().split()\n",
    "\n",
    "_ = input()\n",
    "N = map(int,input().split())\n",
    "_ = input()\n",
    "M = map(int,input().split())\n",
    "dic = {}\n",
    "answer = []\n",
    "\n",
    "for n in N:\n",
    "    if n in dic:\n",
    "        dic[n] += 1\n",
    "    else:\n",
    "        dic[n] = 1\n",
    "\n",
    "for m in M:\n",
    "    if m in dic:\n",
    "        answer.append(str(dic[m]))\n",
    "    else:\n",
    "        answer.append('0')\n",
    "\n",
    "print(' '.join(answer))\n",
    "\n",
    "# counter 함수를 쓰면 바로 list를 dict로 변환가능"
   ]
  },
  {
   "cell_type": "code",
   "execution_count": null,
   "id": "c92731ce",
   "metadata": {},
   "outputs": [],
   "source": [
    "# HASH 26008\n",
    "n,m,a = map(int, input().split())\n",
    "print(pow(m, n-1, 1000000007))"
   ]
  },
  {
   "cell_type": "markdown",
   "id": "f565f1a0",
   "metadata": {},
   "source": [
    "# 3주차"
   ]
  },
  {
   "cell_type": "code",
   "execution_count": 5,
   "id": "30d5a0ca",
   "metadata": {},
   "outputs": [
    {
     "name": "stdout",
     "output_type": "stream",
     "text": [
      "15\n"
     ]
    },
    {
     "ename": "ValueError",
     "evalue": "invalid literal for int() with base 10: ''",
     "output_type": "error",
     "traceback": [
      "\u001b[1;31m---------------------------------------------------------------------------\u001b[0m",
      "\u001b[1;31mValueError\u001b[0m                                Traceback (most recent call last)",
      "Cell \u001b[1;32mIn[5], line 8\u001b[0m\n\u001b[0;32m      6\u001b[0m max_heap \u001b[38;5;241m=\u001b[39m []\n\u001b[0;32m      7\u001b[0m \u001b[38;5;28;01mfor\u001b[39;00m _ \u001b[38;5;129;01min\u001b[39;00m \u001b[38;5;28mrange\u001b[39m(N):\n\u001b[1;32m----> 8\u001b[0m     a \u001b[38;5;241m=\u001b[39m \u001b[38;5;28;43mint\u001b[39;49m\u001b[43m(\u001b[49m\u001b[43msys\u001b[49m\u001b[38;5;241;43m.\u001b[39;49m\u001b[43mstdin\u001b[49m\u001b[38;5;241;43m.\u001b[39;49m\u001b[43mreadline\u001b[49m\u001b[43m(\u001b[49m\u001b[43m)\u001b[49m\u001b[43m)\u001b[49m\n\u001b[0;32m      9\u001b[0m     \u001b[38;5;28;01mif\u001b[39;00m a \u001b[38;5;241m==\u001b[39m \u001b[38;5;241m0\u001b[39m:\n\u001b[0;32m     10\u001b[0m         \u001b[38;5;28;01mif\u001b[39;00m \u001b[38;5;28mlen\u001b[39m(max_heap) \u001b[38;5;241m==\u001b[39m\u001b[38;5;241m0\u001b[39m:\n",
      "\u001b[1;31mValueError\u001b[0m: invalid literal for int() with base 10: ''"
     ]
    }
   ],
   "source": [
    "# HEAP 11279(최대힙)\n",
    "import sys\n",
    "import heapq\n",
    "\n",
    "N = int(input())\n",
    "max_heap = []\n",
    "for _ in range(N):\n",
    "    a = int(sys.stdin.readline())\n",
    "    if a == 0:\n",
    "        if len(max_heap) ==0:\n",
    "            print(0)\n",
    "        else:\n",
    "            print(heapq.heappop(max_heap)[1])\n",
    "    else:\n",
    "        heapq.heappush(max_heap, (-a, a))"
   ]
  },
  {
   "cell_type": "code",
   "execution_count": 21,
   "id": "5116711b",
   "metadata": {},
   "outputs": [
    {
     "name": "stdout",
     "output_type": "stream",
     "text": [
      "5\n",
      "0\n",
      "-1\n",
      "2 3 2\n",
      "0\n",
      "-1\n",
      "0\n",
      "-1\n",
      "0\n",
      "-1\n"
     ]
    }
   ],
   "source": [
    "# HEAP 14235(크리스마스 선물)\n",
    "\n",
    "from heapq import *\n",
    "\n",
    "max_heap = []\n",
    "N = int(input())\n",
    "for _ in range(N):\n",
    "    a = input()\n",
    "    if a != '0':\n",
    "        alist = ''.join(a.split())\n",
    "        for i in range(1, len(alist)):\n",
    "            heappush(max_heap, (-int(alist[i]), int(alist[i])))\n",
    "    else:\n",
    "        if len(max_heap) == 0:\n",
    "            print(-1)\n",
    "        else:\n",
    "            print(heappop(max_heap)[1])"
   ]
  },
  {
   "cell_type": "code",
   "execution_count": 8,
   "id": "2aca3a48",
   "metadata": {},
   "outputs": [
    {
     "name": "stdout",
     "output_type": "stream",
     "text": [
      "5\n",
      "5\n",
      "10\n",
      "7\n",
      "3\n",
      "8\n",
      "4\n"
     ]
    }
   ],
   "source": [
    "# HEAP 1417 국회의원 선거\n",
    "\n",
    "from heapq import *\n",
    "\n",
    "max_heap = []\n",
    "\n",
    "N = int(input())\n",
    "dasom = int(input())\n",
    "\n",
    "if N == 1:\n",
    "    print('0')\n",
    "else:\n",
    "    for i in range(N-1):\n",
    "        a = int(input())\n",
    "        heappush(max_heap, (-a, a))\n",
    "\n",
    "    count = 0\n",
    "\n",
    "    while True:\n",
    "        maxval = heappop(max_heap)[1]\n",
    "        if maxval >= dasom:\n",
    "            dasom += 1\n",
    "            heappush(max_heap, (-(maxval-1), (maxval-1)))\n",
    "            count += 1\n",
    "        elif dasom > maxval:\n",
    "            print(count)\n",
    "            break"
   ]
  },
  {
   "cell_type": "markdown",
   "id": "fb24d971",
   "metadata": {},
   "source": [
    "# 4주차"
   ]
  },
  {
   "cell_type": "code",
   "execution_count": 28,
   "id": "9b2b557e",
   "metadata": {},
   "outputs": [
    {
     "name": "stdout",
     "output_type": "stream",
     "text": [
      "20\n",
      "7\n",
      "23\n",
      "19\n",
      "10\n",
      "15\n",
      "25\n",
      "13\n",
      "8\n",
      "7\n",
      "8\n",
      "10\n",
      "13\n",
      "19\n",
      "20\n",
      "23\n"
     ]
    }
   ],
   "source": [
    "# Brute Force 2309 일곱 난쟁이\n",
    "\n",
    "from itertools import *\n",
    "\n",
    "list1 = []\n",
    "for _ in range(9):\n",
    "    list1.append(int(input()))\n",
    "list2 = list(combinations(list1, 7)) #9C7\n",
    "\n",
    "for i in list2:\n",
    "    i = list(i)\n",
    "    num = sum(i)\n",
    "    if num == 100:\n",
    "        answer = sorted(i)\n",
    "        break\n",
    "        \n",
    "for j in answer:\n",
    "    print(j)"
   ]
  },
  {
   "cell_type": "code",
   "execution_count": 39,
   "id": "141f46fc",
   "metadata": {},
   "outputs": [
    {
     "name": "stdout",
     "output_type": "stream",
     "text": [
      "10 500\n",
      "93 181 245 214 315 36 185 138 216 295\n",
      "497\n"
     ]
    }
   ],
   "source": [
    "# Brute Force 2798 블랙잭\n",
    "from itertools import *\n",
    "\n",
    "tmp = input().split()\n",
    "M = int(tmp[1])\n",
    "kard = map(int,input().split())\n",
    "\n",
    "C = list(combinations(kard, 3))\n",
    "best = 999999\n",
    "\n",
    "for i in C:\n",
    "    i = list(i)\n",
    "    dif = M-sum(i)\n",
    "    if dif < best and dif>=0:\n",
    "        best = dif\n",
    "        answer = sum(i)\n",
    "        \n",
    "print(answer)"
   ]
  },
  {
   "cell_type": "markdown",
   "id": "15d03442",
   "metadata": {},
   "source": [
    "# 5주차"
   ]
  },
  {
   "cell_type": "code",
   "execution_count": 24,
   "id": "2bcf40d7",
   "metadata": {},
   "outputs": [
    {
     "name": "stdout",
     "output_type": "stream",
     "text": [
      "10 4200\n",
      "1\n",
      "5\n",
      "10\n",
      "50\n",
      "100\n",
      "500\n",
      "1000\n",
      "5000\n",
      "10000\n",
      "50000\n",
      "6\n"
     ]
    }
   ],
   "source": [
    "# Greedy 11047 동전 0\n",
    "a = list(map(int,input().split()))\n",
    "money = a[1]\n",
    "coins = []\n",
    "for _ in range(a[0]):\n",
    "    coins.append(int(input()))\n",
    "\n",
    "# coins = [1,5,10,50,100,500,1000,5000,10000,50000]\n",
    "# money = 4790\n",
    "    \n",
    "count=0\n",
    "while True:\n",
    "    for i, coin in enumerate(coins[::-1]):\n",
    "        if money >= coin:\n",
    "            count += money // coin\n",
    "            money = money % coin\n",
    "            coins = coins[:-i-1]\n",
    "    if money == 0:\n",
    "        break\n",
    "\n",
    "print(count)"
   ]
  },
  {
   "cell_type": "code",
   "execution_count": 34,
   "id": "da9446f7",
   "metadata": {
    "scrolled": true
   },
   "outputs": [
    {
     "name": "stdout",
     "output_type": "stream",
     "text": [
      "5\n",
      "4\n",
      "3\n",
      "2\n",
      "1\n"
     ]
    }
   ],
   "source": [
    "a=6\n",
    "while a > 0:\n",
    "    a -= 1\n",
    "    print(a)"
   ]
  },
  {
   "cell_type": "code",
   "execution_count": 2,
   "id": "fdfd3e83",
   "metadata": {},
   "outputs": [
    {
     "name": "stdout",
     "output_type": "stream",
     "text": [
      "3\n"
     ]
    }
   ],
   "source": [
    "# Greedy 2875 대회 or 인턴\n",
    "a=6\n",
    "b=10\n",
    "c=3\n",
    "# alist = list(map(int,input().split()))\n",
    "# a = alist[0]\n",
    "# b = alist[1]\n",
    "# c = alist[2]\n",
    "count = 0\n",
    "\n",
    "while True:\n",
    "    a -= 2\n",
    "    b -= 1\n",
    "    if a < 0 or b < 0 or (a+b)<c:\n",
    "        break\n",
    "    count += 1\n",
    "\n",
    "print(count)"
   ]
  },
  {
   "cell_type": "markdown",
   "id": "29ad5171",
   "metadata": {},
   "source": [
    "# 7주차"
   ]
  },
  {
   "cell_type": "code",
   "execution_count": null,
   "id": "0b3a5160",
   "metadata": {},
   "outputs": [],
   "source": []
  },
  {
   "cell_type": "code",
   "execution_count": 39,
   "id": "23ab48ec",
   "metadata": {},
   "outputs": [],
   "source": [
    "# DFS, BFS 2178 미로 탐색\n",
    "\n",
    "def isValidPos(x,y):\n",
    "    if x < 0 or y < 0 or x >= b or y >= a :\n",
    "        return False\n",
    "    else :\n",
    "        return maze[y][x] == '1' or maze[y][x] == 'x'\n",
    "    \n",
    "def DFS():\n",
    "    stack = []\n",
    "    stack.append((0,0))\n",
    "    print('DFS: ')\n",
    "    count = 0\n",
    "    while stack:\n",
    "        \n",
    "        here = stack.pop()\n",
    "        print(f'{count}번 : {here}', end='->')\n",
    "        (x,y) = here\n",
    "        if(maze[y][x] == 'x'):\n",
    "            return True\n",
    "        else:\n",
    "            maze[y][x] = '0'\n",
    "            if isValidPos(x, y-1): stack.append((x,y-1)) #상\n",
    "            if isValidPos(x, y+1): stack.append((x,y+1)) #하\n",
    "            if isValidPos(x-1, y): stack.append((x-1,y)) #좌\n",
    "            if isValidPos(x+1, y): stack.append((x+1,y)) #우\n",
    "                \n",
    "        print(f'현재 스택: {stack}')\n",
    "        count += 1\n",
    "        \n",
    "    return False\n",
    "\n",
    "# # maze 생성\n",
    "# a,b = map(int, input().split())\n",
    "# maze=[]\n",
    "# for _ in range(a):\n",
    "#     maze.append(list(input()))\n",
    "# maze[a-1][6-1] = 'x'\n",
    "\n",
    "# DFS()\n"
   ]
  },
  {
   "cell_type": "code",
   "execution_count": 7,
   "id": "a19f507d",
   "metadata": {},
   "outputs": [
    {
     "data": {
      "text/plain": [
       "True"
      ]
     },
     "execution_count": 7,
     "metadata": {},
     "output_type": "execute_result"
    }
   ],
   "source": [
    "n=10\n",
    "b=5\n",
    "0 <= b <= n"
   ]
  },
  {
   "cell_type": "code",
   "execution_count": 40,
   "id": "b767bc7c",
   "metadata": {},
   "outputs": [
    {
     "name": "stdout",
     "output_type": "stream",
     "text": [
      "DFS: \n",
      "0번 : (0, 0)->현재 스택: [(0, 1)]\n",
      "1번 : (0, 1)->현재 스택: [(0, 2)]\n",
      "2번 : (0, 2)->현재 스택: [(0, 3)]\n",
      "3번 : (0, 3)->현재 스택: [(1, 3)]\n",
      "4번 : (1, 3)->현재 스택: [(2, 3)]\n",
      "5번 : (2, 3)->현재 스택: [(2, 2)]\n",
      "6번 : (2, 2)->현재 스택: [(2, 1)]\n",
      "7번 : (2, 1)->현재 스택: [(2, 0)]\n",
      "8번 : (2, 0)->현재 스택: [(3, 0)]\n",
      "9번 : (3, 0)->현재 스택: [(4, 0)]\n",
      "10번 : (4, 0)->현재 스택: [(4, 1), (5, 0)]\n",
      "11번 : (5, 0)->현재 스택: [(4, 1)]\n",
      "12번 : (4, 1)->현재 스택: [(4, 2)]\n",
      "13번 : (4, 2)->현재 스택: [(4, 3), (5, 2)]\n",
      "14번 : (5, 2)->현재 스택: [(4, 3), (5, 3)]\n",
      "15번 : (5, 3)-> --> 미로탐색 성공\n"
     ]
    }
   ],
   "source": [
    "a,b = 4,6\n",
    "maze=[list('101111'),\n",
    "      list('101010'),\n",
    "      list('101011'),\n",
    "      list('111011')]\n",
    "maze[a-1][b-1] = 'x'\n",
    "result = DFS()\n",
    "if result : print(' --> 미로탐색 성공')\n",
    "else: print('--> 미로탐색 실패')"
   ]
  },
  {
   "cell_type": "code",
   "execution_count": 42,
   "id": "def20be8",
   "metadata": {},
   "outputs": [
    {
     "name": "stdout",
     "output_type": "stream",
     "text": [
      "DFS: \n",
      "0번 : (0, 0)->현재 스택: [(0, 1), (1, 0)]\n",
      "1번 : (1, 0)->현재 스택: [(0, 1), (1, 1)]\n",
      "2번 : (1, 1)->현재 스택: [(0, 1), (1, 2), (0, 1)]\n",
      "3번 : (0, 1)->현재 스택: [(0, 1), (1, 2), (0, 2)]\n",
      "4번 : (0, 2)->현재 스택: [(0, 1), (1, 2), (0, 3), (1, 2)]\n",
      "5번 : (1, 2)->현재 스택: [(0, 1), (1, 2), (0, 3), (1, 3), (2, 2)]\n",
      "6번 : (2, 2)->현재 스택: [(0, 1), (1, 2), (0, 3), (1, 3), (2, 3), (3, 2)]\n",
      "7번 : (3, 2)->현재 스택: [(0, 1), (1, 2), (0, 3), (1, 3), (2, 3), (3, 1), (3, 3), (4, 2)]\n",
      "8번 : (4, 2)->현재 스택: [(0, 1), (1, 2), (0, 3), (1, 3), (2, 3), (3, 1), (3, 3), (4, 1), (5, 2)]\n",
      "9번 : (5, 2)->현재 스택: [(0, 1), (1, 2), (0, 3), (1, 3), (2, 3), (3, 1), (3, 3), (4, 1), (5, 3)]\n",
      "10번 : (5, 3)-> --> 미로탐색 성공\n"
     ]
    }
   ],
   "source": [
    "a,b = 4,6\n",
    "maze=[list('110110'),\n",
    "      list('110110'),\n",
    "      list('111111'),\n",
    "      list('111101')]\n",
    "maze[a-1][b-1] = 'x'\n",
    "result = DFS()\n",
    "if result : print(' --> 미로탐색 성공')\n",
    "else: print('--> 미로탐색 실패')"
   ]
  },
  {
   "cell_type": "code",
   "execution_count": 41,
   "id": "b81e7c36",
   "metadata": {},
   "outputs": [
    {
     "name": "stdout",
     "output_type": "stream",
     "text": [
      "DFS: \n",
      "0번 : (0, 0)->현재 스택: [(0, 1)]\n",
      "1번 : (0, 1)->현재 스택: [(1, 1)]\n",
      "2번 : (1, 1)->현재 스택: [(2, 1)]\n",
      "3번 : (2, 1)->현재 스택: [(2, 0)]\n",
      "4번 : (2, 0)->현재 스택: [(3, 0)]\n",
      "5번 : (3, 0)->현재 스택: [(4, 0)]\n",
      "6번 : (4, 0)->현재 스택: [(4, 1)]\n",
      "7번 : (4, 1)->현재 스택: [(5, 1)]\n",
      "8번 : (5, 1)->현재 스택: [(6, 1)]\n",
      "9번 : (6, 1)->현재 스택: [(6, 0)]\n",
      "10번 : (6, 0)->현재 스택: [(7, 0)]\n",
      "11번 : (7, 0)->현재 스택: [(8, 0)]\n",
      "12번 : (8, 0)->현재 스택: [(8, 1)]\n",
      "13번 : (8, 1)->현재 스택: [(9, 1)]\n",
      "14번 : (9, 1)->현재 스택: [(10, 1)]\n",
      "15번 : (10, 1)->현재 스택: [(10, 0)]\n",
      "16번 : (10, 0)->현재 스택: [(11, 0)]\n",
      "17번 : (11, 0)->현재 스택: [(12, 0)]\n",
      "18번 : (12, 0)->현재 스택: [(12, 1)]\n",
      "19번 : (12, 1)->현재 스택: [(13, 1)]\n",
      "20번 : (13, 1)->현재 스택: [(14, 1)]\n",
      "21번 : (14, 1)->현재 스택: [(14, 0)]\n",
      "22번 : (14, 0)->현재 스택: [(15, 0)]\n",
      "23번 : (15, 0)->현재 스택: [(16, 0)]\n",
      "24번 : (16, 0)->현재 스택: [(16, 1)]\n",
      "25번 : (16, 1)->현재 스택: [(17, 1)]\n",
      "26번 : (17, 1)->현재 스택: [(18, 1)]\n",
      "27번 : (18, 1)->현재 스택: [(18, 0)]\n",
      "28번 : (18, 0)->현재 스택: [(19, 0)]\n",
      "29번 : (19, 0)->현재 스택: [(20, 0)]\n",
      "30번 : (20, 0)->현재 스택: [(20, 1)]\n",
      "31번 : (20, 1)->현재 스택: [(21, 1)]\n",
      "32번 : (21, 1)->현재 스택: [(22, 1)]\n",
      "33번 : (22, 1)->현재 스택: [(22, 0)]\n",
      "34번 : (22, 0)->현재 스택: [(23, 0)]\n",
      "35번 : (23, 0)->현재 스택: [(24, 0)]\n",
      "36번 : (24, 0)->현재 스택: [(24, 1)]\n",
      "37번 : (24, 1)-> --> 미로탐색 성공\n"
     ]
    }
   ],
   "source": [
    "a,b = 2,25\n",
    "maze=[list('1011101110111011101110111'),\n",
    "      list('1110111011101110111011101')]\n",
    "maze[a-1][b-1] = 'x'\n",
    "result = DFS()\n",
    "if result : print(' --> 미로탐색 성공')\n",
    "else: print('--> 미로탐색 실패')"
   ]
  },
  {
   "cell_type": "code",
   "execution_count": 3,
   "id": "c5c23046",
   "metadata": {},
   "outputs": [],
   "source": [
    "def isValidPos(x,y):\n",
    "    if x < 0 or y < 0 or x >= b or y >= a :\n",
    "        return False\n",
    "    else :\n",
    "        return maze[y][x] == '1' or maze[y][x] == 'x'\n",
    "\n",
    "def BFS():\n",
    "    que = []\n",
    "    que.append((0,0))\n",
    "    print('BFS: ')\n",
    "    count = 0\n",
    "    \n",
    "    while que:\n",
    "        \n",
    "        here = que.pop(0)\n",
    "        print(f'{count}번 : {here}', end='->')\n",
    "        (x,y) = here\n",
    "        if (maze[y][x] == 'x') : \n",
    "            return True\n",
    "        else:\n",
    "            maze[y][x] = '0'\n",
    "            if isValidPos(x, y-1): que.append((x,y-1)) #상\n",
    "            if isValidPos(x, y+1): que.append((x,y+1)) #하\n",
    "            if isValidPos(x-1, y): que.append((x-1,y)) #좌\n",
    "            if isValidPos(x+1, y): que.append((x+1,y)) #우\n",
    "            que = list(set(que))\n",
    "\n",
    "        print(f'현재 큐: {que}')\n",
    "        count += 1\n",
    "        \n",
    "    return False"
   ]
  },
  {
   "cell_type": "code",
   "execution_count": 5,
   "id": "b849ad2f",
   "metadata": {},
   "outputs": [
    {
     "name": "stdout",
     "output_type": "stream",
     "text": [
      "9\n"
     ]
    }
   ],
   "source": [
    "graph=[list(map(int,list('110110'))),\n",
    "      list(map(int,list('110110'))),\n",
    "      list(map(int,list('111111'))),\n",
    "      list(map(int,list('111101')))]\n",
    "n,m = 4,6\n",
    "\n",
    "# 상하좌우\n",
    "dx = [-1, 1, 0, 0] \n",
    "dy = [0, 0, -1, 1]\n",
    "\n",
    "def bfs(x, y):\n",
    "    \n",
    "    queue = deque()\n",
    "    queue.append((x,y))\n",
    "\n",
    "    while queue:\n",
    "        x, y = queue.popleft()\n",
    "\n",
    "        for i in range(4):\n",
    "            nx = x + dx[i]\n",
    "            ny = y + dy[i]\n",
    "\n",
    "            if 0 <= nx < n and 0 <= ny < m and graph[nx][ny] == 1:\n",
    "                queue.append((nx, ny))\n",
    "                graph[nx][ny] = graph[x][y] + 1\n",
    "    \n",
    "    return graph[n-1][m-1]\n",
    "\n",
    "print(bfs(0,0))"
   ]
  },
  {
   "cell_type": "code",
   "execution_count": 70,
   "id": "0f14d1e0",
   "metadata": {},
   "outputs": [
    {
     "name": "stdout",
     "output_type": "stream",
     "text": [
      "BFS: \n",
      "0번 : (0, 0)->현재 큐: [(0, 1)]\n",
      "1번 : (0, 1)->현재 큐: [(0, 2)]\n",
      "2번 : (0, 2)->현재 큐: [(0, 3)]\n",
      "3번 : (0, 3)->현재 큐: [(1, 3)]\n",
      "4번 : (1, 3)->현재 큐: [(2, 3)]\n",
      "5번 : (2, 3)->현재 큐: [(2, 2)]\n",
      "6번 : (2, 2)->현재 큐: [(2, 1)]\n",
      "7번 : (2, 1)->현재 큐: [(2, 0)]\n",
      "8번 : (2, 0)->현재 큐: [(3, 0)]\n",
      "9번 : (3, 0)->현재 큐: [(4, 0)]\n",
      "10번 : (4, 0)->현재 큐: [(4, 1), (5, 0)]\n",
      "11번 : (4, 1)->현재 큐: [(5, 0), (4, 2)]\n",
      "12번 : (5, 0)->현재 큐: [(4, 2)]\n",
      "13번 : (4, 2)->현재 큐: [(4, 3), (5, 2)]\n",
      "14번 : (4, 3)->현재 큐: [(5, 2), (5, 3)]\n",
      "15번 : (5, 2)->현재 큐: [(5, 3), (5, 3)]\n",
      "16번 : (5, 3)-> --> 미로탐색 성공\n"
     ]
    }
   ],
   "source": [
    "a,b = 4,6\n",
    "maze=[list('101111'),\n",
    "      list('101010'),\n",
    "      list('101011'),\n",
    "      list('111011')]\n",
    "maze[a-1][b-1] = 'x'\n",
    "result = BFS()\n",
    "if result : print(' --> 미로탐색 성공')\n",
    "else: print('--> 미로탐색 실패')"
   ]
  },
  {
   "cell_type": "code",
   "execution_count": 4,
   "id": "fe4c6a0e",
   "metadata": {},
   "outputs": [
    {
     "name": "stdout",
     "output_type": "stream",
     "text": [
      "BFS: \n",
      "0번 : (0, 0)->현재 큐: [(0, 1), (1, 0)]\n",
      "1번 : (0, 1)->현재 큐: [(1, 0), (0, 2), (1, 1)]\n",
      "2번 : (1, 0)->현재 큐: [(1, 1), (0, 2)]\n",
      "3번 : (1, 1)->현재 큐: [(0, 2), (1, 2)]\n",
      "4번 : (0, 2)->현재 큐: [(1, 2), (0, 3)]\n",
      "5번 : (1, 2)->현재 큐: [(0, 3), (1, 3), (2, 2)]\n",
      "6번 : (0, 3)->현재 큐: [(1, 3), (2, 2)]\n",
      "7번 : (1, 3)->현재 큐: [(2, 3), (2, 2)]\n",
      "8번 : (2, 3)->현재 큐: [(3, 3), (2, 2)]\n",
      "9번 : (3, 3)->현재 큐: [(3, 2), (2, 2)]\n",
      "10번 : (3, 2)->현재 큐: [(3, 1), (4, 2), (2, 2)]\n",
      "11번 : (3, 1)->현재 큐: [(4, 1), (3, 0), (4, 2), (2, 2)]\n",
      "12번 : (4, 1)->현재 큐: [(4, 0), (2, 2), (4, 2), (3, 0)]\n",
      "13번 : (4, 0)->현재 큐: [(3, 0), (4, 2), (2, 2)]\n",
      "14번 : (3, 0)->현재 큐: [(4, 2), (2, 2)]\n",
      "15번 : (4, 2)->현재 큐: [(5, 2), (2, 2)]\n",
      "16번 : (5, 2)->현재 큐: [(5, 3), (2, 2)]\n",
      "17번 : (5, 3)-> --> 미로탐색 성공\n"
     ]
    }
   ],
   "source": [
    "a,b = 4,6\n",
    "maze=[list('110110'),\n",
    "      list('110110'),\n",
    "      list('111111'),\n",
    "      list('111101')]\n",
    "maze[a-1][b-1] = 'x'\n",
    "result = BFS()\n",
    "if result : print(' --> 미로탐색 성공')\n",
    "else: print('--> 미로탐색 실패')"
   ]
  },
  {
   "cell_type": "code",
   "execution_count": 68,
   "id": "7669f1cc",
   "metadata": {},
   "outputs": [
    {
     "name": "stdout",
     "output_type": "stream",
     "text": [
      "BFS: \n",
      "(0, 0)->(0, 1)->(1, 1)->(2, 1)->(2, 0)->(3, 0)->(4, 0)->(4, 1)->(5, 1)->(6, 1)->(6, 0)->(7, 0)->(8, 0)->(8, 1)->(9, 1)->(10, 1)->(10, 0)->(11, 0)->(12, 0)->(12, 1)->(13, 1)->(14, 1)->(14, 0)->(15, 0)->(16, 0)->(16, 1)->(17, 1)->(18, 1)->(18, 0)->(19, 0)->(20, 0)->(20, 1)->(21, 1)->(22, 1)->(22, 0)->(23, 0)->(24, 0)->(24, 1)-> *** 총 37번 이동 ***\n",
      " --> 미로탐색 성공\n"
     ]
    }
   ],
   "source": [
    "a,b = 2,25\n",
    "maze=[list('1011101110111011101110111'),\n",
    "      list('1110111011101110111011101')]\n",
    "maze[a-1][b-1] = 'x'\n",
    "result = BFS()\n",
    "if result : print(' --> 미로탐색 성공')\n",
    "else: print('--> 미로탐색 실패')"
   ]
  },
  {
   "cell_type": "code",
   "execution_count": null,
   "id": "b11c18aa",
   "metadata": {},
   "outputs": [],
   "source": [
    "# 종환형 solution\n",
    "\n",
    "# ****** DFS ******\n",
    "# from collections import deque\n",
    "\n",
    "# r,c = map(int, input().split())\n",
    "# array = [list(map(int, list(input()))) for _ in range(r)]\n",
    "visited = [[False] *c for _ in range(r)]\n",
    "\n",
    "dx = [1,-1,0,0]\n",
    "dy = [0,0,1,-1]\n",
    "\n",
    "queue = deque()\n",
    "\n",
    "min_val = 99999999\n",
    "\n",
    "queue.append((0,0))\n",
    "\n",
    "while queue:\n",
    "    x,y = queue.pop()\n",
    "    visited[x][y] = True\n",
    "\n",
    "    if x == r-1 and y == c-1:\n",
    "        min_val = min(min_val, array[r-1][c-1])\n",
    "        visited[x][y] = False\n",
    "        continue\n",
    "\n",
    "    for i in range(4):\n",
    "        nx = x + dx[i]\n",
    "        ny = y + dy[i]\n",
    "        if 0 <= nx < r and 0 <= ny < c:\n",
    "            if array[nx][ny] != 0 and visited[nx][ny] == False:\n",
    "                visited[nx][ny] = True\n",
    "                array[nx][ny] = array[x][y] + 1\n",
    "                queue.append((nx,ny))\n",
    "\n",
    "    for a in array:\n",
    "        print(a)\n",
    "    print('-'*30)\n",
    "\n",
    "print(min_val)\n",
    "\n",
    "\n",
    "# ****** BFS ******\n",
    "# from collections import deque\n",
    "\n",
    "# r,c = map(int, input().split())\n",
    "# array = [list(map(int, list(input()))) for _ in range(r)]\n",
    "visited = [[False] *c for _ in range(r)]\n",
    "\n",
    "dx = [1,-1,0,0]\n",
    "dy = [0,0,1,-1]\n",
    "\n",
    "queue = deque()\n",
    "\n",
    "queue.append((0,0))\n",
    "\n",
    "while queue:\n",
    "    x,y = queue.popleft()\n",
    "    visited[x][y] = True\n",
    "\n",
    "    for i in range(4):\n",
    "        nx = x + dx[i]\n",
    "        ny = y + dy[i]\n",
    "        if 0 <= nx < r and 0 <= ny < c:\n",
    "            if array[nx][ny] != 0 and visited[nx][ny] == False:\n",
    "                visited[nx][ny] = True\n",
    "                array[nx][ny] = array[x][y] + 1\n",
    "                queue.append((nx,ny))\n",
    "    \n",
    "    for a in array:\n",
    "        print(a)\n",
    "\n",
    "    print('-'*30)\n",
    "# print(array[r-1][c-1])"
   ]
  },
  {
   "cell_type": "markdown",
   "id": "c18dff4a",
   "metadata": {},
   "source": [
    "# 8주차"
   ]
  },
  {
   "cell_type": "code",
   "execution_count": 27,
   "id": "d0dbd61e",
   "metadata": {},
   "outputs": [
    {
     "data": {
      "text/plain": [
       "[{0}, {1}, {2}]"
      ]
     },
     "execution_count": 27,
     "metadata": {},
     "output_type": "execute_result"
    }
   ],
   "source": [
    "list12 = []\n",
    "for i in range(3):\n",
    "    list12.append([i])\n",
    "\n",
    "list12 = [set(i) for i in list12]\n",
    "list12"
   ]
  },
  {
   "cell_type": "code",
   "execution_count": null,
   "id": "6b15b8db",
   "metadata": {},
   "outputs": [],
   "source": []
  },
  {
   "cell_type": "code",
   "execution_count": 1,
   "id": "344f2c97",
   "metadata": {},
   "outputs": [
    {
     "name": "stdout",
     "output_type": "stream",
     "text": [
      "[{1, 2}, {0, 4}, {0, 3}, {2, 4}, {1, 3}]\n",
      "3 1 2 5 4 \n",
      "3 1 4 2 5 "
     ]
    }
   ],
   "source": [
    "import collections\n",
    "\n",
    "adjlist = [] # 인접 정점 인덱스\n",
    "vertex = [] # 노드들\n",
    "_input = '4 5 1'\n",
    "_input = '5 5 3'\n",
    "n, m, start = map(int, _input.split())\n",
    "for i in range(n):\n",
    "    adjlist.append([])\n",
    "    vertex.append(i)\n",
    "\n",
    "_input_list = ['1 2', '1 3', '1 4', '2 4', '3 4']\n",
    "_input_list = ['5 4', '5 2', '1 2', '3 4', '3 1']\n",
    "for j in _input_list:\n",
    "    a, b = map(int, j.split())\n",
    "    adjlist[a-1].append(b-1)\n",
    "    adjlist[b-1].append(a-1)\n",
    "\n",
    "adjlist = [set(i) for i in adjlist]\n",
    "print(adjlist)\n",
    "    \n",
    "def dfs(graph, start, visited=set()):\n",
    "    if start not in visited:\n",
    "        visited.add(start)\n",
    "        print(start+1, end=' ')\n",
    "        nbr = graph[start] - visited\n",
    "        for v in nbr:\n",
    "            dfs(graph, v, visited)\n",
    "            \n",
    "dfs(adjlist, start-1)\n",
    "\n",
    "def bfs(graph, start):\n",
    "    visited = set([start])\n",
    "    queue = collections.deque([start])\n",
    "    while queue:\n",
    "        vertex = queue.popleft()\n",
    "        print(vertex+1, end=' ')\n",
    "        nbr = graph[vertex] - visited\n",
    "        for v in nbr:\n",
    "            visited.add(v)\n",
    "            queue.append(v)\n",
    "print()\n",
    "bfs(adjlist, start-1)\n"
   ]
  },
  {
   "cell_type": "code",
   "execution_count": 45,
   "id": "4acd3275",
   "metadata": {},
   "outputs": [
    {
     "name": "stdout",
     "output_type": "stream",
     "text": [
      "5 5 3\n",
      "5 4\n",
      "5 2\n",
      "1 2\n",
      "3 4\n",
      "3 1\n",
      "3 1 2 5 4 \n",
      "3 1 4 2 5 "
     ]
    }
   ],
   "source": [
    "import collections\n",
    "\n",
    "adjlist = [] # 인접 정점 인덱스\n",
    "vertex = [] # 노드들\n",
    "n, m, start = map(int, input().split())\n",
    "for i in range(n):\n",
    "    adjlist.append([])\n",
    "    vertex.append(i)\n",
    "\n",
    "for _ in range(m):\n",
    "    a, b = map(int, input().split())\n",
    "    adjlist[a-1].append(b-1)\n",
    "    adjlist[b-1].append(a-1)\n",
    "\n",
    "adjlist = [set(i) for i in adjlist]\n",
    "    \n",
    "def dfs(graph, start, visited=set()):\n",
    "    if start not in visited:\n",
    "        visited.add(start)\n",
    "        print(start+1, end=' ')\n",
    "        nbr = graph[start] - visited\n",
    "        for v in nbr:\n",
    "            dfs(graph, v, visited)\n",
    "            \n",
    "dfs(adjlist, start-1)\n",
    "\n",
    "def bfs(graph, start):\n",
    "    visited = set([start])\n",
    "    queue = collections.deque([start])\n",
    "    while queue:\n",
    "        vertex = queue.popleft()\n",
    "        print(vertex+1, end=' ')\n",
    "        nbr = graph[vertex] - visited\n",
    "        for v in nbr:\n",
    "            visited.add(v)\n",
    "            queue.append(v)\n",
    "print()\n",
    "bfs(adjlist, start-1)\n"
   ]
  },
  {
   "cell_type": "markdown",
   "id": "892e50f7",
   "metadata": {},
   "source": [
    "# 10주차"
   ]
  },
  {
   "cell_type": "code",
   "execution_count": 14,
   "id": "815faf3f",
   "metadata": {},
   "outputs": [
    {
     "ename": "TypeError",
     "evalue": "'>' not supported between instances of 'list' and 'int'",
     "output_type": "error",
     "traceback": [
      "\u001b[1;31m---------------------------------------------------------------------------\u001b[0m",
      "\u001b[1;31mTypeError\u001b[0m                                 Traceback (most recent call last)",
      "Cell \u001b[1;32mIn[14], line 1\u001b[0m\n\u001b[1;32m----> 1\u001b[0m tree_heights[\u001b[43mtree_heights\u001b[49m\u001b[38;5;241;43m>\u001b[39;49m\u001b[38;5;241;43m15\u001b[39;49m]\n",
      "\u001b[1;31mTypeError\u001b[0m: '>' not supported between instances of 'list' and 'int'"
     ]
    }
   ],
   "source": [
    "tree_heights[tree_heights>15]"
   ]
  },
  {
   "cell_type": "code",
   "execution_count": 4,
   "id": "835e602e",
   "metadata": {},
   "outputs": [
    {
     "name": "stdout",
     "output_type": "stream",
     "text": [
      "7\n"
     ]
    }
   ],
   "source": [
    "print(b)"
   ]
  },
  {
   "cell_type": "code",
   "execution_count": 10,
   "id": "1f633544",
   "metadata": {
    "scrolled": true
   },
   "outputs": [
    {
     "name": "stdout",
     "output_type": "stream",
     "text": [
      "15\n"
     ]
    }
   ],
   "source": [
    "# 백준 2805: 나무 자르기 (이진탐색)\n",
    "input_str1 = '4 7'\n",
    "input_str2 = '20 15 10 17'\n",
    "\n",
    "a, b = map(int, input_str1.split())\n",
    "tree_heights = list(map(int, input_str2.split()))\n",
    "\n",
    "high = max(tree_heights) # 나무중 가장 큰애를 high로\n",
    "low = 0\n",
    "count = 0\n",
    "while (low <= high):\n",
    "    count += 1\n",
    "    middle = (low + high) // 2\n",
    "    total_cut = 0\n",
    "    for tree in tree_heights:\n",
    "        if tree > middle:\n",
    "            total_cut += tree-middle\n",
    "    if total_cut == b:\n",
    "        answer = middle\n",
    "        break\n",
    "    elif total_cut > b:\n",
    "        low = middle + 1\n",
    "    elif total_cut < b:\n",
    "        high = middle - 1\n",
    "        \n",
    "        \n",
    "print(answer)"
   ]
  },
  {
   "cell_type": "code",
   "execution_count": 1,
   "id": "32521b38",
   "metadata": {},
   "outputs": [
    {
     "name": "stdout",
     "output_type": "stream",
     "text": [
      "4 7\n",
      "20 15 10 17\n",
      "15\n"
     ]
    }
   ],
   "source": [
    "# 백준 2805: 나무 자르기 (이진탐색)\n",
    "# input_str1 = '4 7'\n",
    "# input_str2 = '20 15 10 17'\n",
    "\n",
    "a, b = map(int, input().split())\n",
    "tree_heights = list(map(int, input().split()))\n",
    "\n",
    "high = max(tree_heights) # 나무중 가장 큰애를 high로\n",
    "low = 0\n",
    "count = 0\n",
    "while (low <= high):\n",
    "    count += 1\n",
    "    middle = (low + high) // 2\n",
    "    total_cut = 0\n",
    "    for tree in tree_heights:\n",
    "        if tree > middle:\n",
    "            total_cut += tree-middle\n",
    "            \n",
    "    if total_cut >= b:\n",
    "        low = middle + 1\n",
    "    elif total_cut < b:\n",
    "        high = middle - 1\n",
    "        \n",
    "print(high)"
   ]
  },
  {
   "cell_type": "code",
   "execution_count": null,
   "id": "0c2f697b",
   "metadata": {},
   "outputs": [],
   "source": [
    "N, M = map(int, input().split())\n",
    "tree = list(map(int, input().split()))\n",
    "start, end = 1, max(tree) #이분탐색 검색 범위 설정\n",
    "\n",
    "while start <= end: #적절한 벌목 높이를 찾는 알고리즘\n",
    "    mid = (start+end) // 2\n",
    "    \n",
    "    log = 0 #벌목된 나무 총합\n",
    "    for i in tree:\n",
    "        if i >= mid:\n",
    "            log += i - mid\n",
    "    \n",
    "    #벌목 높이를 이분탐색\n",
    "    if log >= M:\n",
    "        start = mid + 1\n",
    "    else:\n",
    "        end = mid - 1\n",
    "print(end)"
   ]
  },
  {
   "cell_type": "code",
   "execution_count": null,
   "id": "55f805a5",
   "metadata": {},
   "outputs": [],
   "source": []
  },
  {
   "cell_type": "code",
   "execution_count": 7,
   "id": "89840cd0",
   "metadata": {},
   "outputs": [
    {
     "name": "stdout",
     "output_type": "stream",
     "text": [
      "1 0\n",
      "2 1\n",
      "5 2\n",
      "3 3\n",
      "6 4\n"
     ]
    }
   ],
   "source": [
    "# 백준 2606: 바이러스 (DFS, BFS)\n",
    "\n",
    "import collections\n",
    "\n",
    "\n",
    "input_a = '7'\n",
    "input_b = '6'\n",
    "input_c = ['1 2', '2 3', '1 5', '5 2', '5 6', '4 7']\n",
    "\n",
    "adjlist = [] # 인접 정점 인덱스\n",
    "\n",
    "# 컴퓨터 대수만큼 생성\n",
    "for i in range(int(input_a)):\n",
    "    adjlist.append([])\n",
    "\n",
    "# 연결선 생성\n",
    "for i in range(int(input_b)):\n",
    "    a, b = map(int, input_c[i].split())\n",
    "    adjlist[a-1].append(b-1)\n",
    "    adjlist[b-1].append(a-1)\n",
    "\n",
    "adjlist = [set(i) for i in adjlist]\n",
    "\n",
    "# for _ in range(input_b):\n",
    "#     a, b = map(int, input().split())\n",
    "#     adjlist[a-1].append(b-1)\n",
    "#     adjlist[b-1].append(a-1)\n",
    "\n",
    "def bfs(graph, start):\n",
    "    count=0\n",
    "    visited = set([start])\n",
    "    queue = collections.deque([start])\n",
    "    while queue:\n",
    "        vertex = queue.popleft()\n",
    "        count += 1\n",
    "        #print(vertex+1, end=' ')\n",
    "        print(count-1)\n",
    "        nbr = graph[vertex] - visited\n",
    "        for v in nbr:\n",
    "            visited.add(v)\n",
    "            queue.append(v)\n",
    "            \n",
    "bfs(adjlist, 0)"
   ]
  },
  {
   "cell_type": "code",
   "execution_count": null,
   "id": "8b9cd35b",
   "metadata": {},
   "outputs": [],
   "source": [
    "# 백준 2606: 바이러스 (DFS, BFS)\n",
    "\n",
    "import collections\n",
    "\n",
    "\n",
    "input_a = int(input())\n",
    "input_b = int(input())\n",
    "\n",
    "adjlist = [] # 인접 정점 인덱스\n",
    "vertex = [] # 노드들\n",
    "\n",
    "# 컴퓨터 대수만큼 생성\n",
    "for i in range(int(input_a)):\n",
    "    adjlist.append([])\n",
    "    vertex.append(i)\n",
    "\n",
    "# 연결선 생성\n",
    "for _ in range(input_b):\n",
    "    a, b = map(int, input().split())\n",
    "    adjlist[a-1].append(b-1)\n",
    "    adjlist[b-1].append(a-1)\n",
    "\n",
    "adjlist = [set(i) for i in adjlist]\n",
    "\n",
    "# for _ in range(input_b):\n",
    "#     a, b = map(int, input().split())\n",
    "#     adjlist[a-1].append(b-1)\n",
    "#     adjlist[b-1].append(a-1)\n",
    "\n",
    "def bfs(graph, start):\n",
    "    count=0\n",
    "    visited = set([start])\n",
    "    queue = collections.deque([start])\n",
    "    while queue:\n",
    "        vertex = queue.popleft()\n",
    "        count += 1\n",
    "        #print(vertex+1, end=' ')\n",
    "        \n",
    "        nbr = graph[vertex] - visited\n",
    "        for v in nbr:\n",
    "            visited.add(v)\n",
    "            queue.append(v)\n",
    "    print(count-1)\n",
    "            \n",
    "bfs(adjlist, 0)"
   ]
  },
  {
   "cell_type": "markdown",
   "id": "f74f4985",
   "metadata": {},
   "source": [
    "# 11주차(DP)"
   ]
  },
  {
   "cell_type": "code",
   "execution_count": 6,
   "id": "f11e1126",
   "metadata": {},
   "outputs": [
    {
     "name": "stdout",
     "output_type": "stream",
     "text": [
      "4\n",
      "3\n"
     ]
    }
   ],
   "source": [
    "# 이친수 2193번\n",
    "\n",
    "data_list = [0]*100000000\n",
    "N = int(input())\n",
    "\n",
    "data_list[0] = 1\n",
    "data_list[1] = 1\n",
    "\n",
    "for i in range(2,N):\n",
    "    data_list[i] = data_list[i-1] + data_list[i-2]\n",
    "\n",
    "print(data_list[N-1])"
   ]
  },
  {
   "cell_type": "code",
   "execution_count": 8,
   "id": "87dc1b5b",
   "metadata": {},
   "outputs": [
    {
     "data": {
      "text/plain": [
       "(1, 2)"
      ]
     },
     "execution_count": 8,
     "metadata": {},
     "output_type": "execute_result"
    }
   ],
   "source": [
    "a = '1 2'\n",
    "tuple(map(int,a.split()))"
   ]
  },
  {
   "cell_type": "code",
   "execution_count": 20,
   "id": "cae7b82b",
   "metadata": {},
   "outputs": [
    {
     "name": "stdout",
     "output_type": "stream",
     "text": [
      "inputlist(before) = [(1, 2), (8, 7), (20, 10), (20, 20), (15, 12), (12, 14), (11, 12)]\n",
      "inputlist(after) = [(2, 1), (8, 7), (20, 10), (20, 20), (15, 12), (14, 12), (12, 11)]\n",
      "firstlist = [(20, 20), (20, 10), (15, 12), (14, 12), (12, 11), (8, 7), (2, 1)]\n",
      "secondlist = [(20, 20), (15, 12), (14, 12), (12, 11), (20, 10), (8, 7), (2, 1)]\n",
      "answer = [6, 6]\n",
      "max answer = 6\n"
     ]
    }
   ],
   "source": [
    "# 색종이 2643번\n",
    "\n",
    "inputlist = [(1,2), (8,7), (20,10), (20,20), (15,12), (12,14), (11,12)]\n",
    "\n",
    "print(f'inputlist(before) = {inputlist}')\n",
    "\n",
    "for idx, i in enumerate(inputlist):\n",
    "    if i[0] < i[1] :\n",
    "        inputlist[idx] = (i[1],i[0])\n",
    "\n",
    "print(f'inputlist(after) = {inputlist}')    \n",
    "        \n",
    "answer = []\n",
    "\n",
    "firstlist = sorted(inputlist, reverse = True)\n",
    "print(f'firstlist = {firstlist}')\n",
    "firstcount = 1\n",
    "firststart = firstlist[0]\n",
    "for i in firstlist[1:]:\n",
    "    if firststart[0] >= i[0] and firststart[1] >= i[1]:\n",
    "        firstcount += 1\n",
    "    firststart = i\n",
    "answer.append(firstcount)\n",
    "\n",
    "secondlist = sorted(firstlist, key = lambda x : -x[1])\n",
    "print(f'secondlist = {secondlist}')\n",
    "secondcount = 1\n",
    "secondstart = secondlist[0]\n",
    "for i in secondlist[1:]:\n",
    "    if secondstart[0] >= i[0] and secondstart[1] >= i[1]:\n",
    "        secondcount += 1\n",
    "    secondstart = i\n",
    "answer.append(secondcount)\n",
    "\n",
    "print(f'answer = {answer}')\n",
    "print(f'max answer = {max(answer)}')"
   ]
  },
  {
   "cell_type": "code",
   "execution_count": 22,
   "id": "31898744",
   "metadata": {},
   "outputs": [
    {
     "name": "stdout",
     "output_type": "stream",
     "text": [
      "7\n",
      "1 2\n",
      "8 7\n",
      "20 10\n",
      "20 20\n",
      "15 12\n",
      "12 14\n",
      "11 12\n",
      "max answer = 6\n"
     ]
    }
   ],
   "source": [
    "# 색종이 2643번\n",
    "import sys\n",
    "\n",
    "inputlist = []\n",
    "N = int(input())\n",
    "for _ in range(N):\n",
    "    inputlist.append(tuple(map(int, input().split())))\n",
    "    #inputlist.append(tuple(map(int, sys.stdin.readline().split())))\n",
    "\n",
    "for idx, i in enumerate(inputlist):\n",
    "    if i[0] < i[1] :\n",
    "        inputlist[idx] = (i[1],i[0])  \n",
    "        \n",
    "answer = []\n",
    "\n",
    "\n",
    "firstlist = sorted(inputlist, reverse = True)\n",
    "\n",
    "firstcount = 1\n",
    "firststart = firstlist[0]\n",
    "for i in firstlist[1:]:\n",
    "    if firststart[0] >= i[0] and firststart[1] >= i[1]:\n",
    "        firstcount += 1\n",
    "    firststart = i\n",
    "answer.append(firstcount)\n",
    "\n",
    "\n",
    "secondlist = sorted(firstlist, key = lambda x : -x[1])\n",
    "\n",
    "secondcount = 1\n",
    "secondstart = secondlist[0]\n",
    "for i in secondlist[1:]:\n",
    "    if secondstart[0] >= i[0] and secondstart[1] >= i[1]:\n",
    "        secondcount += 1\n",
    "    secondstart = i\n",
    "answer.append(secondcount)\n",
    "\n",
    "print({max(answer)})"
   ]
  },
  {
   "cell_type": "code",
   "execution_count": 29,
   "id": "42d2d023",
   "metadata": {},
   "outputs": [
    {
     "name": "stdout",
     "output_type": "stream",
     "text": [
      "7\n",
      "1 2\n",
      "8 7\n",
      "20 10\n",
      "20 20\n",
      "15 12\n",
      "12 14\n",
      "11 12\n",
      "p : [[1, 2], [7, 8], [10, 20], [11, 12], [12, 14], [12, 15], [20, 20]]\n",
      "\n",
      "i = 1, j = 0\n",
      "p[i][1] : 8 p[j][1] : 2\n",
      "dp : [1, 2, 1, 1, 1, 1, 1]\n",
      "\n",
      "\n",
      "i = 2, j = 0\n",
      "p[i][1] : 20 p[j][1] : 2\n",
      "dp : [1, 2, 2, 1, 1, 1, 1]\n",
      "\n",
      "i = 2, j = 1\n",
      "p[i][1] : 20 p[j][1] : 8\n",
      "dp : [1, 2, 3, 1, 1, 1, 1]\n",
      "\n",
      "\n",
      "i = 3, j = 0\n",
      "p[i][1] : 12 p[j][1] : 2\n",
      "dp : [1, 2, 3, 2, 1, 1, 1]\n",
      "\n",
      "i = 3, j = 1\n",
      "p[i][1] : 12 p[j][1] : 8\n",
      "dp : [1, 2, 3, 3, 1, 1, 1]\n",
      "\n",
      "i = 3, j = 2\n",
      "p[i][1] : 12 p[j][1] : 20\n",
      "dp : [1, 2, 3, 3, 1, 1, 1]\n",
      "\n",
      "\n",
      "i = 4, j = 0\n",
      "p[i][1] : 14 p[j][1] : 2\n",
      "dp : [1, 2, 3, 3, 2, 1, 1]\n",
      "\n",
      "i = 4, j = 1\n",
      "p[i][1] : 14 p[j][1] : 8\n",
      "dp : [1, 2, 3, 3, 3, 1, 1]\n",
      "\n",
      "i = 4, j = 2\n",
      "p[i][1] : 14 p[j][1] : 20\n",
      "dp : [1, 2, 3, 3, 3, 1, 1]\n",
      "\n",
      "i = 4, j = 3\n",
      "p[i][1] : 14 p[j][1] : 12\n",
      "dp : [1, 2, 3, 3, 4, 1, 1]\n",
      "\n",
      "\n",
      "i = 5, j = 0\n",
      "p[i][1] : 15 p[j][1] : 2\n",
      "dp : [1, 2, 3, 3, 4, 2, 1]\n",
      "\n",
      "i = 5, j = 1\n",
      "p[i][1] : 15 p[j][1] : 8\n",
      "dp : [1, 2, 3, 3, 4, 3, 1]\n",
      "\n",
      "i = 5, j = 2\n",
      "p[i][1] : 15 p[j][1] : 20\n",
      "dp : [1, 2, 3, 3, 4, 3, 1]\n",
      "\n",
      "i = 5, j = 3\n",
      "p[i][1] : 15 p[j][1] : 12\n",
      "dp : [1, 2, 3, 3, 4, 4, 1]\n",
      "\n",
      "i = 5, j = 4\n",
      "p[i][1] : 15 p[j][1] : 14\n",
      "dp : [1, 2, 3, 3, 4, 5, 1]\n",
      "\n",
      "\n",
      "i = 6, j = 0\n",
      "p[i][1] : 20 p[j][1] : 2\n",
      "dp : [1, 2, 3, 3, 4, 5, 2]\n",
      "\n",
      "i = 6, j = 1\n",
      "p[i][1] : 20 p[j][1] : 8\n",
      "dp : [1, 2, 3, 3, 4, 5, 3]\n",
      "\n",
      "i = 6, j = 2\n",
      "p[i][1] : 20 p[j][1] : 20\n",
      "dp : [1, 2, 3, 3, 4, 5, 4]\n",
      "\n",
      "i = 6, j = 3\n",
      "p[i][1] : 20 p[j][1] : 12\n",
      "dp : [1, 2, 3, 3, 4, 5, 4]\n",
      "\n",
      "i = 6, j = 4\n",
      "p[i][1] : 20 p[j][1] : 14\n",
      "dp : [1, 2, 3, 3, 4, 5, 5]\n",
      "\n",
      "i = 6, j = 5\n",
      "p[i][1] : 20 p[j][1] : 15\n",
      "dp : [1, 2, 3, 3, 4, 5, 6]\n",
      "\n",
      "\n",
      "6\n"
     ]
    }
   ],
   "source": [
    "def solution(N):\n",
    "    p = sorted([sorted(map(int, input().split())) for i in range(N)])\n",
    "    print(f'p : {p}\\n')\n",
    "    dp = [1 for i in range(N)]\n",
    "    for i in range(1, N):\n",
    "        for j in range(i):\n",
    "            print(f'i = {i}, j = {j}')\n",
    "            print(f'p[i][1] : {p[i][1]} p[j][1] : {p[j][1]}')\n",
    "            if p[i][1] >= p[j][1]: dp[i] = max(dp[i], dp[j]+1)\n",
    "            print(f'dp : {dp}\\n')\n",
    "        print()\n",
    "    print(max(dp))\n",
    "\n",
    "if __name__ == '__main__':\n",
    "    solution(int(input()))"
   ]
  },
  {
   "cell_type": "code",
   "execution_count": null,
   "id": "235979c6",
   "metadata": {},
   "outputs": [],
   "source": [
    "n = 4\n",
    "num = [1]*n\n",
    "\n",
    "for i in range(1,n):\n",
    "    "
   ]
  },
  {
   "cell_type": "markdown",
   "id": "02a56277",
   "metadata": {},
   "source": [
    "# 12주차(최단거리)"
   ]
  },
  {
   "cell_type": "code",
   "execution_count": 11,
   "id": "fbacd702",
   "metadata": {},
   "outputs": [
    {
     "name": "stdout",
     "output_type": "stream",
     "text": [
      "graph : [[], [(2, 2), (3, 3)], [(3, 4), (4, 5)], [(4, 6)], [], [(1, 1)]]\n",
      "\n",
      " count 1, dist=0, now=1\n",
      "graph[now] : [(2, 2), (3, 3)]\n",
      "i : (2, 2)\n",
      "cost : 2\n",
      "distance : [1000000000, 0, 2, 1000000000, 1000000000, 1000000000]\n",
      "heap : [(2, 2)]\n",
      "\n",
      "i : (3, 3)\n",
      "cost : 3\n",
      "distance : [1000000000, 0, 2, 3, 1000000000, 1000000000]\n",
      "heap : [(2, 2), (3, 3)]\n",
      "\n",
      "\n",
      " count 2, dist=2, now=2\n",
      "graph[now] : [(3, 4), (4, 5)]\n",
      "i : (3, 4)\n",
      "cost : 6\n",
      "i : (4, 5)\n",
      "cost : 7\n",
      "distance : [1000000000, 0, 2, 3, 7, 1000000000]\n",
      "heap : [(3, 3), (7, 4)]\n",
      "\n",
      "\n",
      " count 3, dist=3, now=3\n",
      "graph[now] : [(4, 6)]\n",
      "i : (4, 6)\n",
      "cost : 9\n",
      "\n",
      " count 4, dist=7, now=4\n",
      "graph[now] : []\n",
      "0\n",
      "2\n",
      "3\n",
      "7\n",
      "INF\n"
     ]
    }
   ],
   "source": [
    "import sys\n",
    "import heapq\n",
    "\n",
    "# input = sys.stdin.readline\n",
    "INF = int(1e9)\n",
    "def dijkstra(start):\n",
    "    q= []\n",
    "    heapq.heappush(q,(0,start))\n",
    "    distance[start] = 0\n",
    "    count = 1\n",
    "    while q:\n",
    "        dist, now = heapq.heappop(q)\n",
    "        print(f'\\n count {count}, dist={dist}, now={now}')\n",
    "        if distance[now] < dist:\n",
    "            print(f'distance[now] < dist = {distance[now] < dist}')\n",
    "            continue\n",
    "\n",
    "        #현재 노드와 연결된 인접 노드 확인\n",
    "        print(f'graph[now] : {graph[now]}')\n",
    "        for i in graph[now]:\n",
    "            \n",
    "            print(f'i : {i}')\n",
    "            cost = dist + i[1]\n",
    "            print(f'cost : {cost}')\n",
    "            if cost < distance[i[0]]:\n",
    "                distance[i[0]] = cost\n",
    "                heapq.heappush(q,(cost,i[0]))\n",
    "                print(f'distance : {distance}')\n",
    "                print(f'heap : {q}')\n",
    "                print('')\n",
    "        count += 1\n",
    "\n",
    "#V == 5일 때 1~5까지 노드가 있는거임.\n",
    "#V, E = map(int,input().split())\n",
    "V, E = 5, 6\n",
    "\n",
    "#snode = int(input()) #시작 노드\n",
    "snode = 1\n",
    "\n",
    "# graph = [[] for _ in range(V+1)]\n",
    "graph = [[],[(2,2), (3,3)], [(3,4), (4,5)], [(4,6)], [], [(1,1)]]\n",
    "print(f'graph : {graph}')\n",
    "distance = [INF] * (V+1) #최단 거리 테이블\n",
    "#연결 정보 입력\n",
    "# for _ in range(E):\n",
    "#     u,v,w = map(int,input().split())\n",
    "#     graph[u].append((v,w))\n",
    "\n",
    "\n",
    "dijkstra(snode)\n",
    "\n",
    "#i번째 줄에 i번 정점으로의 최단 경로의 경로값을 출력\n",
    "for i in range(1,V+1):\n",
    "    if distance[i] == INF:\n",
    "        print(\"INF\")\n",
    "    else:\n",
    "        print(distance[i])"
   ]
  },
  {
   "cell_type": "markdown",
   "id": "775cdd7a",
   "metadata": {},
   "source": [
    "# 13주차 최소 스패닝 트리"
   ]
  },
  {
   "cell_type": "code",
   "execution_count": 7,
   "id": "31c1025b",
   "metadata": {},
   "outputs": [
    {
     "name": "stdout",
     "output_type": "stream",
     "text": [
      "before parent : [0, 1, 2, 3]\n",
      "after parent  : [0, 1, 1, 3]\n",
      "----------------------------\n",
      "before parent : [0, 1, 1, 3]\n",
      "after parent  : [0, 1, 1, 1]\n",
      "----------------------------\n",
      "before parent : [0, 1, 1, 1]\n",
      "after parent  : [0, 1, 1, 1]\n",
      "----------------------------\n",
      "3\n"
     ]
    }
   ],
   "source": [
    "import sys\n",
    "\n",
    "V, E = 3,3\n",
    "\n",
    "# Kruskal Algorithm\n",
    "# https://techblog-history-younghunjo1.tistory.com/262\n",
    "edges = []\n",
    "edges.append((1,2,1))\n",
    "edges.append((2,3,2))\n",
    "edges.append((1,3,3))\n",
    "edges.sort(key=lambda x: x[2]) # C(Cost)가 적은 것부터 정렬\n",
    "\n",
    "# Union-Find\n",
    "parent = [i for i in range(V+1)]\n",
    "\n",
    "def get_parent(x):\n",
    "    if parent[x] == x:\n",
    "        return x\n",
    "    parent[x] = get_parent(parent[x]) # get_parent 거슬러 올라가면서 parent[x] 값도 갱신\n",
    "    return parent[x]\n",
    "\n",
    "def union_parent(a, b):\n",
    "    a = get_parent(a)\n",
    "    b = get_parent(b)\n",
    "\n",
    "    if a < b: # 작은 쪽이 부모가 된다. (한 집합 관계라서 부모가 따로 있는 건 아님)\n",
    "        parent[b] = a\n",
    "    else:\n",
    "        parent[a] = b        \n",
    "\n",
    "def same_parent(a, b):\n",
    "    return get_parent(a) == get_parent(b)\n",
    "\n",
    "\n",
    "answer = 0\n",
    "for a, b, cost in edges:\n",
    "    print('before parent :',parent)\n",
    "    # cost가 작은 edge부터 하나씩 추가해가면서 같은 부모를 공유하지 않을 때(사이클 없을 때)만 확정\n",
    "    if not same_parent(a, b):\n",
    "        union_parent(a, b)\n",
    "        answer += cost\n",
    "    print('after parent  :',parent)\n",
    "    print('----------------------------')\n",
    "print(answer)"
   ]
  }
 ],
 "metadata": {
  "kernelspec": {
   "display_name": "pytorch_env",
   "language": "python",
   "name": "pytorch_env"
  },
  "language_info": {
   "codemirror_mode": {
    "name": "ipython",
    "version": 3
   },
   "file_extension": ".py",
   "mimetype": "text/x-python",
   "name": "python",
   "nbconvert_exporter": "python",
   "pygments_lexer": "ipython3",
   "version": "3.8.16"
  }
 },
 "nbformat": 4,
 "nbformat_minor": 5
}
